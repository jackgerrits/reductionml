{
 "cells": [
  {
   "cell_type": "markdown",
   "metadata": {},
   "source": [
    "# Getting started\n",
    "\n",
    "Before we get started, ensure you have the required packages installed:\n",
    "\n",
    "```sh\n",
    "pip install reductionml scikit-learn\n",
    "```"
   ]
  },
  {
   "cell_type": "code",
   "execution_count": 45,
   "metadata": {},
   "outputs": [],
   "source": [
    "from reductionml import Workspace, FormatType\n"
   ]
  },
  {
   "cell_type": "markdown",
   "metadata": {},
   "source": [
    "First, we need to define the configuration we are going to use. You can think of this as the definition of the structure of the reduction stack, including all things that will affect learning and prediction. Things such as hyper parameters.\n",
    "\n",
    "We will create an instance of [`Coin`](https://jackgerrits.com/reductionml/book/coin.html) as the only reduction in our stack which provides solves for linear regression problems."
   ]
  },
  {
   "cell_type": "code",
   "execution_count": 46,
   "metadata": {},
   "outputs": [],
   "source": [
    "config = {\n",
    "    \"entryReduction\": {\n",
    "        \"config\": {},\n",
    "        \"typename\": \"Coin\"\n",
    "    }, \n",
    "    \"globalConfig\": {\n",
    "        \"interactions\": [\n",
    "            [\"Default\", \"Default\"]\n",
    "        ]\n",
    "    }\n",
    "}\n",
    "\n",
    "workspace = Workspace.create_from_config(config)"
   ]
  },
  {
   "cell_type": "markdown",
   "metadata": {},
   "source": [
    "We're going to use the diabetes dataset from sklearn."
   ]
  },
  {
   "cell_type": "code",
   "execution_count": 47,
   "metadata": {},
   "outputs": [],
   "source": [
    "import sklearn.datasets\n",
    "import sklearn.model_selection\n",
    "dataset = sklearn.datasets.load_diabetes()\n",
    "X_train, X_test, y_train, y_test = sklearn.model_selection.train_test_split(dataset.data, dataset.target)\n"
   ]
  },
  {
   "cell_type": "code",
   "execution_count": 48,
   "metadata": {},
   "outputs": [
    {
     "name": "stdout",
     "output_type": "stream",
     "text": [
      "MSE error at pass 0: 8021.6635847471625\n",
      "MSE error at pass 1: 3825.003633391618\n",
      "MSE error at pass 2: 3636.0612630902106\n",
      "MSE error at pass 3: 3508.012612874407\n",
      "MSE error at pass 4: 3437.157331053816\n",
      "MSE error at pass 5: 3397.1723666073763\n",
      "MSE error at pass 6: 3368.089415636847\n",
      "MSE error at pass 7: 3344.064184543594\n",
      "MSE error at pass 8: 3322.720712088957\n",
      "MSE error at pass 9: 3302.6458895202413\n"
     ]
    }
   ],
   "source": [
    "def format_input(features, label):\n",
    "\n",
    "    return {\n",
    "        \"label\": {\n",
    "            \"value\": label,\n",
    "            \"weight\": 1.0\n",
    "        },\n",
    "        \"features\": {\n",
    "            \":default\": features.tolist()\n",
    "        }\n",
    "    }\n",
    "\n",
    "parser = workspace.create_parser(FormatType.Json)\n",
    "for pass_num in range(10):\n",
    "    for (input_features, input_label) in zip(X_train, y_train):\n",
    "        features, label = parser.parse(format_input(input_features, input_label))\n",
    "        prediction = workspace.learn(features, label)\n",
    "    \n",
    "    mse_error = 0\n",
    "    for (input_features, input_label) in zip(X_test, y_test):\n",
    "        features, label = parser.parse(format_input(input_features, input_label))\n",
    "        prediction = workspace.predict(features)\n",
    "        mse_error += (label.value - prediction.prediction) ** 2\n",
    "\n",
    "    print(f\"MSE error at pass {pass_num}: {mse_error / len(X_test)}\")\n"
   ]
  },
  {
   "cell_type": "code",
   "execution_count": null,
   "metadata": {},
   "outputs": [],
   "source": []
  }
 ],
 "metadata": {
  "kernelspec": {
   "display_name": "base",
   "language": "python",
   "name": "python3"
  },
  "language_info": {
   "codemirror_mode": {
    "name": "ipython",
    "version": 3
   },
   "file_extension": ".py",
   "mimetype": "text/x-python",
   "name": "python",
   "nbconvert_exporter": "python",
   "pygments_lexer": "ipython3",
   "version": "3.9.15"
  },
  "orig_nbformat": 4
 },
 "nbformat": 4,
 "nbformat_minor": 2
}
